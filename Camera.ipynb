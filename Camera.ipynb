{
 "cells": [
  {
   "cell_type": "code",
   "execution_count": 1,
   "id": "f058c485",
   "metadata": {},
   "outputs": [],
   "source": [
    "import pandas as pd\n",
    "from bs4 import BeautifulSoup\n",
    "import requests\n",
    "import datetime\n",
    "#Should Use bestbuy api"
   ]
  },
  {
   "cell_type": "code",
   "execution_count": 2,
   "id": "848826a3",
   "metadata": {},
   "outputs": [],
   "source": [
    "url1=\"https://www.samys.com/p/Digital-Mirrorless-Cameras/ILCE7SM3/B/Sony-Alpha-a7S-III-Mirrorless-Digital-Camera-Body/218252.html?origin=product-search\"\n",
    "url2=\"https://www.bestbuy.com/site/sony-alpha-7s-iii-full-frame-mirrorless-camera-body-only-black/6423589.p?skuId=6423589&ref=NS&loc=101\""
   ]
  },
  {
   "cell_type": "code",
   "execution_count": 3,
   "id": "cf6c15c6",
   "metadata": {},
   "outputs": [
    {
     "name": "stdout",
     "output_type": "stream",
     "text": [
      "2022-08-24\n"
     ]
    }
   ],
   "source": [
    "col= [\"Site\",\"Title\",\"Price\",\"Status\",\"Url\",\"Date\"]\n",
    "today = datetime.date.today()\n",
    "print(today)"
   ]
  },
  {
   "cell_type": "code",
   "execution_count": 4,
   "id": "34ce6d96",
   "metadata": {},
   "outputs": [],
   "source": [
    "def Samy_camera():\n",
    "    try:\n",
    "        samy = requests.get(url1)\n",
    "        samy.raise_for_status() #Check status of site to make sure it is a real site\n",
    "    \n",
    "        soup = BeautifulSoup(samy.text,'html.parser') #Returns html for site using html parser\n",
    "    \n",
    "        title = soup.find('h1',class_=\"header\").text.strip()\n",
    "        stock = soup.find('span',class_=\"textHighlight availability-value\").text.strip()\n",
    "        price = soup.find('div', class_=\"price\").text.strip().split(\"$\")[1]\n",
    "    \n",
    "        info = [\"Samy's Camera\",title,price,stock,url1,str(today)]\n",
    "        return info\n",
    "    except Exception as e:\n",
    "        print(e)"
   ]
  },
  {
   "cell_type": "code",
   "execution_count": 5,
   "id": "079a4c59",
   "metadata": {},
   "outputs": [],
   "source": [
    "def best_buy():\n",
    "    try:\n",
    "        headers= {\"User-Agent\": \"Mozilla/5.0 (Windows NT 10.0; Win64; x64) AppleWebKit/537.36 (KHTML, like Gecko) Chrome/104.0.0.0 Safari/537.36\"}\n",
    "        page= requests.get(url2,headers=headers)\n",
    "        soup1= BeautifulSoup(page.content,'html.parser') #Returns html for site using html parser\n",
    "        soup2= BeautifulSoup(soup1.prettify(), 'html.parser')\n",
    "        title = soup2.find(class_=\"heading-5 v-fw-regular\").get_text().strip()\n",
    "        stock = \"In Stock\"\n",
    "        price = soup2.find(class_=\"priceView-hero-price priceView-customer-price\").get_text().strip().split()[-1]\n",
    "        info = [\"Best Buy\",title,price,stock,url2,str(today)]\n",
    "        return info\n",
    "    except Exception as e:\n",
    "        print(e)"
   ]
  },
  {
   "cell_type": "code",
   "execution_count": 6,
   "id": "f4f0ddb5",
   "metadata": {
    "scrolled": true
   },
   "outputs": [],
   "source": [
    "sam= Samy_camera()\n",
    "bb=best_buy()\n",
    "li=[sam,bb]"
   ]
  },
  {
   "cell_type": "code",
   "execution_count": null,
   "id": "ea277e7e",
   "metadata": {
    "scrolled": false
   },
   "outputs": [],
   "source": []
  },
  {
   "cell_type": "code",
   "execution_count": 7,
   "id": "fc53e5b6",
   "metadata": {},
   "outputs": [],
   "source": [
    "##Create csv\n",
    "#import csv\n",
    "#with open(\"Sony_Cam.csv\",'w', newline=\"\") as f:\n",
    "#    writer = csv.writer(f)\n",
    "#    writer.writerow(col)\n",
    "    "
   ]
  },
  {
   "cell_type": "code",
   "execution_count": 8,
   "id": "390f2e08",
   "metadata": {},
   "outputs": [],
   "source": [
    "import csv\n",
    "with open(\"Sony_Cam.csv\",'a', newline=\"\") as f:\n",
    "    writer = csv.writer(f)\n",
    "    for i in li:\n",
    "        writer.writerow(i)"
   ]
  },
  {
   "cell_type": "code",
   "execution_count": null,
   "id": "27f0a55c",
   "metadata": {},
   "outputs": [],
   "source": []
  }
 ],
 "metadata": {
  "kernelspec": {
   "display_name": "Python 3 (ipykernel)",
   "language": "python",
   "name": "python3"
  },
  "language_info": {
   "codemirror_mode": {
    "name": "ipython",
    "version": 3
   },
   "file_extension": ".py",
   "mimetype": "text/x-python",
   "name": "python",
   "nbconvert_exporter": "python",
   "pygments_lexer": "ipython3",
   "version": "3.9.12"
  }
 },
 "nbformat": 4,
 "nbformat_minor": 5
}
